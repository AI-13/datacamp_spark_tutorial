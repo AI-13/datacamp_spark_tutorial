{
 "cells": [
  {
   "cell_type": "markdown",
   "id": "53607680",
   "metadata": {},
   "source": [
    "# Pyspark Tutorial"
   ]
  },
  {
   "cell_type": "markdown",
   "id": "99af4b6c",
   "metadata": {},
   "source": [
    "This is a DataCamp tutorial on PySpark\n",
    "\n",
    "https://www.datacamp.com/tutorial/pyspark-tutorial-getting-started-with-pyspark"
   ]
  },
  {
   "cell_type": "markdown",
   "id": "1dcc7122",
   "metadata": {},
   "source": [
    "# Installing Libraries"
   ]
  },
  {
   "cell_type": "markdown",
   "id": "f82c5827",
   "metadata": {},
   "source": [
    "Ensure pyspark is installed in the environment "
   ]
  },
  {
   "cell_type": "code",
   "execution_count": 1,
   "id": "532a3a6d",
   "metadata": {},
   "outputs": [],
   "source": [
    "from pyspark.sql import SparkSession\n",
    "from pyspark.sql.functions import *\n",
    "from pyspark.sql.types import *\n",
    "\n",
    "# Pandas\n",
    "import pandas as pd"
   ]
  },
  {
   "cell_type": "markdown",
   "id": "46f94e6b",
   "metadata": {},
   "source": [
    "# Creating a SparkSession"
   ]
  },
  {
   "cell_type": "markdown",
   "id": "3902dab9",
   "metadata": {},
   "source": [
    "A SparkSession is an entry point into all functionality in Spark, and is required if you want to build a dataframe in PySpark. Run the following lines of code to initialize a SparkSession:"
   ]
  },
  {
   "cell_type": "code",
   "execution_count": 2,
   "id": "9fac4522",
   "metadata": {},
   "outputs": [
    {
     "name": "stderr",
     "output_type": "stream",
     "text": [
      "WARNING: Using incubator modules: jdk.incubator.vector\n",
      "Using Spark's default log4j profile: org/apache/spark/log4j2-defaults.properties\n",
      "Setting default log level to \"WARN\".\n",
      "To adjust logging level use sc.setLogLevel(newLevel). For SparkR, use setLogLevel(newLevel).\n",
      "25/10/07 16:26:35 WARN NativeCodeLoader: Unable to load native-hadoop library for your platform... using builtin-java classes where applicable\n"
     ]
    }
   ],
   "source": [
    "from pyspark.sql import SparkSession \n",
    "\n",
    "spark = (\n",
    "    SparkSession.builder\n",
    "    .appName(\"Datacamp Pyspark Tutorial\")\n",
    "    .config(\"spark.memory.offHeap.enabled\", \"true\")\n",
    "    .config(\"spark.memory.offHeap.size\", \"10g\")\n",
    "    .getOrCreate()\n",
    ")"
   ]
  },
  {
   "cell_type": "markdown",
   "id": "d711ef22",
   "metadata": {},
   "source": [
    "Using the codes above, we built a spark session and set a name for the application. Then, the data was cached in off-heap memory to avoid storing it directly on disk, and the amount of memmory was manually specified."
   ]
  },
  {
   "cell_type": "markdown",
   "id": "591f8a1c",
   "metadata": {},
   "source": [
    "# Creating the DataFrame"
   ]
  },
  {
   "cell_type": "markdown",
   "id": "5fb145d2",
   "metadata": {},
   "source": [
    "Data is mamually downloaded from the following link: https://archive.ics.uci.edu/dataset/352/online+retail"
   ]
  },
  {
   "cell_type": "code",
   "execution_count": 3,
   "id": "b8526524",
   "metadata": {},
   "outputs": [],
   "source": [
    "import pandas as pd\n",
    "pandas_df = pd.read_excel(\"datacamp_ecommerse.xlsx\") # There's no modules for reading xlsx files in Spark so you need to use Pandas first\n",
    "df = spark.createDataFrame(pandas_df) # Convert pandas dataframe into Spark dataframe"
   ]
  },
  {
   "cell_type": "code",
   "execution_count": 4,
   "id": "2e313bae",
   "metadata": {},
   "outputs": [
    {
     "name": "stderr",
     "output_type": "stream",
     "text": [
      "25/10/07 16:27:08 WARN TaskSetManager: Stage 0 contains a task of very large size (3433 KiB). The maximum recommended task size is 1000 KiB.\n"
     ]
    },
    {
     "name": "stdout",
     "output_type": "stream",
     "text": [
      "+---------+---------+-----------------------------------+--------+-------------------+---------+----------+--------------+\n",
      "|InvoiceNo|StockCode|Description                        |Quantity|InvoiceDate        |UnitPrice|CustomerID|Country       |\n",
      "+---------+---------+-----------------------------------+--------+-------------------+---------+----------+--------------+\n",
      "|536365   |85123A   |WHITE HANGING HEART T-LIGHT HOLDER |6       |2010-12-01 08:26:00|2.55     |17850.0   |United Kingdom|\n",
      "|536365   |71053    |WHITE METAL LANTERN                |6       |2010-12-01 08:26:00|3.39     |17850.0   |United Kingdom|\n",
      "|536365   |84406B   |CREAM CUPID HEARTS COAT HANGER     |8       |2010-12-01 08:26:00|2.75     |17850.0   |United Kingdom|\n",
      "|536365   |84029G   |KNITTED UNION FLAG HOT WATER BOTTLE|6       |2010-12-01 08:26:00|3.39     |17850.0   |United Kingdom|\n",
      "|536365   |84029E   |RED WOOLLY HOTTIE WHITE HEART.     |6       |2010-12-01 08:26:00|3.39     |17850.0   |United Kingdom|\n",
      "+---------+---------+-----------------------------------+--------+-------------------+---------+----------+--------------+\n",
      "only showing top 5 rows\n"
     ]
    },
    {
     "name": "stderr",
     "output_type": "stream",
     "text": [
      "Exception ignored in: <_io.BufferedWriter name=5>                   (0 + 1) / 1]\n",
      "Traceback (most recent call last):\n",
      "  File \"/Users/aiomote/Data Science Projects/datacamp_spark_tutorial/.venv/lib/python3.13/site-packages/pyspark/python/lib/pyspark.zip/pyspark/daemon.py\", line 200, in manager\n",
      "BrokenPipeError: [Errno 32] Broken pipe\n",
      "                                                                                \r"
     ]
    }
   ],
   "source": [
    "df.show(5, 0)"
   ]
  },
  {
   "cell_type": "code",
   "execution_count": 5,
   "id": "d0554722",
   "metadata": {},
   "outputs": [
    {
     "name": "stdout",
     "output_type": "stream",
     "text": [
      "root\n",
      " |-- InvoiceNo: string (nullable = true)\n",
      " |-- StockCode: string (nullable = true)\n",
      " |-- Description: string (nullable = true)\n",
      " |-- Quantity: long (nullable = true)\n",
      " |-- InvoiceDate: timestamp (nullable = true)\n",
      " |-- UnitPrice: double (nullable = true)\n",
      " |-- CustomerID: double (nullable = true)\n",
      " |-- Country: string (nullable = true)\n",
      "\n"
     ]
    }
   ],
   "source": [
    "df.printSchema()"
   ]
  },
  {
   "cell_type": "markdown",
   "id": "e312f024",
   "metadata": {},
   "source": [
    "The DataFrame consists of 8 variables:\n",
    "\n",
    "1. InvoiceNo: The unique identifier of each customer invoice\n",
    "2. StockCode: The unique identifier of each item in stock\n",
    "3. Description: The item purchased by the customer\n",
    "4. Quantity: The number of each item purchased by a customer in a single invoice\n",
    "5. InvoiceDate: The purchase date\n",
    "6. UnitPrice: Price of one unit of each item\n",
    "7. CustomerID: Unique identifier assigned to each user\n",
    "8. Coountry: The country from where the purchase was made"
   ]
  },
  {
   "cell_type": "markdown",
   "id": "d0ffb51d",
   "metadata": {},
   "source": [
    "# Data Exploration"
   ]
  },
  {
   "cell_type": "code",
   "execution_count": 6,
   "id": "8f11b083",
   "metadata": {},
   "outputs": [
    {
     "name": "stderr",
     "output_type": "stream",
     "text": [
      "25/10/07 16:27:09 WARN TaskSetManager: Stage 1 contains a task of very large size (3433 KiB). The maximum recommended task size is 1000 KiB.\n",
      "                                                                                \r"
     ]
    },
    {
     "data": {
      "text/plain": [
       "541909"
      ]
     },
     "execution_count": 6,
     "metadata": {},
     "output_type": "execute_result"
    }
   ],
   "source": [
    "df.count()"
   ]
  },
  {
   "cell_type": "markdown",
   "id": "06d896d4",
   "metadata": {},
   "source": [
    "There are 541,909 rows in the dataframe"
   ]
  },
  {
   "cell_type": "code",
   "execution_count": 7,
   "id": "58ff8bfd",
   "metadata": {},
   "outputs": [
    {
     "name": "stderr",
     "output_type": "stream",
     "text": [
      "25/10/07 16:27:10 WARN TaskSetManager: Stage 4 contains a task of very large size (3433 KiB). The maximum recommended task size is 1000 KiB.\n"
     ]
    },
    {
     "data": {
      "text/plain": [
       "4373"
      ]
     },
     "execution_count": 7,
     "metadata": {},
     "output_type": "execute_result"
    }
   ],
   "source": [
    "# Number of unique customers\n",
    "df.select(\"CustomerID\").distinct().count()"
   ]
  },
  {
   "cell_type": "markdown",
   "id": "8d6578e1",
   "metadata": {},
   "source": [
    "## Purchase by country"
   ]
  },
  {
   "cell_type": "code",
   "execution_count": 8,
   "id": "dab80fab",
   "metadata": {},
   "outputs": [
    {
     "name": "stderr",
     "output_type": "stream",
     "text": [
      "25/10/07 16:27:11 WARN TaskSetManager: Stage 10 contains a task of very large size (3433 KiB). The maximum recommended task size is 1000 KiB.\n"
     ]
    },
    {
     "name": "stdout",
     "output_type": "stream",
     "text": [
      "+------------------+-------------+\n",
      "|           Country|country_count|\n",
      "+------------------+-------------+\n",
      "|            Sweden|            8|\n",
      "|         Singapore|            1|\n",
      "|           Germany|           95|\n",
      "|               RSA|            1|\n",
      "|            France|           88|\n",
      "|            Greece|            4|\n",
      "|European Community|            1|\n",
      "|           Belgium|           25|\n",
      "|           Finland|           12|\n",
      "|             Malta|            2|\n",
      "|       Unspecified|            5|\n",
      "|             Italy|           15|\n",
      "|              EIRE|            4|\n",
      "|         Lithuania|            1|\n",
      "|            Norway|           10|\n",
      "|             Spain|           31|\n",
      "|           Denmark|            9|\n",
      "|         Hong Kong|            1|\n",
      "|           Iceland|            1|\n",
      "|            Israel|            5|\n",
      "+------------------+-------------+\n",
      "only showing top 20 rows\n"
     ]
    }
   ],
   "source": [
    "# Purchases made by each country\n",
    "df.groupBy(\"Country\").agg(count_distinct(\"CustomerID\").alias('country_count')).show() "
   ]
  },
  {
   "cell_type": "code",
   "execution_count": 9,
   "id": "3b66de4d",
   "metadata": {},
   "outputs": [
    {
     "name": "stderr",
     "output_type": "stream",
     "text": [
      "25/10/07 16:27:11 WARN TaskSetManager: Stage 16 contains a task of very large size (3433 KiB). The maximum recommended task size is 1000 KiB.\n"
     ]
    },
    {
     "name": "stdout",
     "output_type": "stream",
     "text": [
      "+---------------+-------------+\n",
      "|        Country|country_count|\n",
      "+---------------+-------------+\n",
      "| United Kingdom|         3951|\n",
      "|        Germany|           95|\n",
      "|         France|           88|\n",
      "|          Spain|           31|\n",
      "|        Belgium|           25|\n",
      "|    Switzerland|           22|\n",
      "|       Portugal|           20|\n",
      "|          Italy|           15|\n",
      "|        Finland|           12|\n",
      "|        Austria|           11|\n",
      "|         Norway|           10|\n",
      "|        Denmark|            9|\n",
      "|Channel Islands|            9|\n",
      "|      Australia|            9|\n",
      "|    Netherlands|            9|\n",
      "|         Sweden|            8|\n",
      "|         Cyprus|            8|\n",
      "|          Japan|            8|\n",
      "|         Poland|            6|\n",
      "|    Unspecified|            5|\n",
      "+---------------+-------------+\n",
      "only showing top 20 rows\n"
     ]
    }
   ],
   "source": [
    "# Order the above table \n",
    "df.groupBy('Country').agg(count_distinct('CustomerID').alias('country_count')).orderBy(desc('country_count')).show()"
   ]
  },
  {
   "cell_type": "markdown",
   "id": "a2b45adb",
   "metadata": {},
   "source": [
    "## Recency"
   ]
  },
  {
   "cell_type": "markdown",
   "id": "07bd7198",
   "metadata": {},
   "source": [
    "When was the most recent purchase made by a customer on the e-commerse platform?"
   ]
  },
  {
   "cell_type": "markdown",
   "id": "5c4b2c49",
   "metadata": {},
   "source": [
    "To find when the latest purchase was made on the platform, we need to convert the 'InvoiceDate' column into a timestamp format and use the 'max()' function in PySpark."
   ]
  },
  {
   "cell_type": "code",
   "execution_count": 10,
   "id": "61b73772",
   "metadata": {},
   "outputs": [
    {
     "name": "stdout",
     "output_type": "stream",
     "text": [
      "+---------+---------+--------------------+--------+-------------------+---------+----------+--------------+-------------------+\n",
      "|InvoiceNo|StockCode|         Description|Quantity|        InvoiceDate|UnitPrice|CustomerID|       Country|               date|\n",
      "+---------+---------+--------------------+--------+-------------------+---------+----------+--------------+-------------------+\n",
      "|   536365|   85123A|WHITE HANGING HEA...|       6|2010-12-01 08:26:00|     2.55|   17850.0|United Kingdom|2010-12-01 08:26:00|\n",
      "|   536365|    71053| WHITE METAL LANTERN|       6|2010-12-01 08:26:00|     3.39|   17850.0|United Kingdom|2010-12-01 08:26:00|\n",
      "|   536365|   84406B|CREAM CUPID HEART...|       8|2010-12-01 08:26:00|     2.75|   17850.0|United Kingdom|2010-12-01 08:26:00|\n",
      "|   536365|   84029G|KNITTED UNION FLA...|       6|2010-12-01 08:26:00|     3.39|   17850.0|United Kingdom|2010-12-01 08:26:00|\n",
      "|   536365|   84029E|RED WOOLLY HOTTIE...|       6|2010-12-01 08:26:00|     3.39|   17850.0|United Kingdom|2010-12-01 08:26:00|\n",
      "+---------+---------+--------------------+--------+-------------------+---------+----------+--------------+-------------------+\n",
      "only showing top 5 rows\n"
     ]
    },
    {
     "name": "stderr",
     "output_type": "stream",
     "text": [
      "25/10/07 16:27:12 WARN TaskSetManager: Stage 22 contains a task of very large size (3433 KiB). The maximum recommended task size is 1000 KiB.\n",
      "Exception ignored in: <_io.BufferedWriter name=5>\n",
      "Traceback (most recent call last):\n",
      "  File \"/Users/aiomote/Data Science Projects/datacamp_spark_tutorial/.venv/lib/python3.13/site-packages/pyspark/python/lib/pyspark.zip/pyspark/daemon.py\", line 200, in manager\n",
      "BrokenPipeError: [Errno 32] Broken pipe\n"
     ]
    }
   ],
   "source": [
    "df = df.withColumn(\n",
    "    \"date\" # New column name \n",
    "    , coalesce( # Coalesce function returns the first none-null value (evaluated left to right)\n",
    "        to_timestamp(col(\"InvoiceDate\"), \"yy/MM/dd HH:mm\"), # First attempt: tries to parse InvoiceDate using the pattern yy/MM/dd HH:mm and returns a Timestamp (e.g. 2017-07-15 14:30:00)\n",
    "        to_timestamp(col(\"InvoiceDate\"), \"yyyy-MM-dd HH:mm:ss\"),# If the first attempt fails and returns null, then it tries the next pattern\n",
    "        to_timestamp(col(\"InvoiceDate\")) # Best effort fallback \n",
    "    )\n",
    ")\n",
    "df.show(5)"
   ]
  },
  {
   "cell_type": "code",
   "execution_count": 11,
   "id": "9052deea",
   "metadata": {},
   "outputs": [
    {
     "name": "stderr",
     "output_type": "stream",
     "text": [
      "25/10/07 16:27:12 WARN TaskSetManager: Stage 23 contains a task of very large size (3433 KiB). The maximum recommended task size is 1000 KiB.\n"
     ]
    },
    {
     "name": "stdout",
     "output_type": "stream",
     "text": [
      "+-------------------+\n",
      "|          max(date)|\n",
      "+-------------------+\n",
      "|2011-12-09 12:50:00|\n",
      "+-------------------+\n",
      "\n"
     ]
    }
   ],
   "source": [
    "df.select(max(\"date\")).show()"
   ]
  },
  {
   "cell_type": "markdown",
   "id": "071a22a3",
   "metadata": {},
   "source": [
    "When was the earliest purchase made by a customer on the e-commerse platform?"
   ]
  },
  {
   "cell_type": "code",
   "execution_count": 12,
   "id": "da131db4",
   "metadata": {},
   "outputs": [
    {
     "name": "stdout",
     "output_type": "stream",
     "text": [
      "+-------------------+\n",
      "|          min(date)|\n",
      "+-------------------+\n",
      "|2010-12-01 08:26:00|\n",
      "+-------------------+\n",
      "\n"
     ]
    },
    {
     "name": "stderr",
     "output_type": "stream",
     "text": [
      "25/10/07 16:27:12 WARN TaskSetManager: Stage 26 contains a task of very large size (3433 KiB). The maximum recommended task size is 1000 KiB.\n"
     ]
    }
   ],
   "source": [
    "df.select(min(\"date\")).show()"
   ]
  },
  {
   "cell_type": "markdown",
   "id": "fd35420f",
   "metadata": {},
   "source": [
    "# Data Pre-Processing"
   ]
  },
  {
   "cell_type": "markdown",
   "id": "29d899c5",
   "metadata": {},
   "source": [
    "**RFM** is commonly used in marketing to evaluate a client's value based on their:\n",
    "\n",
    "1. **Recency**: How recently has each customer made a purchase?\n",
    "2. **Frequency**: How often have they bought something?\n",
    "3. **Monetary Value**: How much money do they spend on average when making purchases?\n"
   ]
  },
  {
   "cell_type": "markdown",
   "id": "7f37e5ed",
   "metadata": {},
   "source": [
    "## Recency"
   ]
  },
  {
   "cell_type": "markdown",
   "id": "1498aad1",
   "metadata": {},
   "source": [
    "First, let's calculate the value of recency - the latest date and time a purchase was made on the platform. This can be achieved in two steps:"
   ]
  },
  {
   "cell_type": "markdown",
   "id": "5c1a0192",
   "metadata": {},
   "source": [
    "### Assign a receny score to each customer\n",
    "\n",
    "We will subtract every date in the dataframe from the earliest date. This will tell us how recently a customer was seen in the dataframe. A value 0 indicates the lowest recency, as it will be assigned to the person who was seen making a purchase on the eariest date."
   ]
  },
  {
   "cell_type": "markdown",
   "id": "b61f83b1",
   "metadata": {},
   "source": [
    "#### Adding a column with constant"
   ]
  },
  {
   "cell_type": "markdown",
   "id": "dfb61b82",
   "metadata": {},
   "source": [
    "There are three possible ways to do this\n",
    "\n",
    "**1. .collect() + .lit()**"
   ]
  },
  {
   "cell_type": "code",
   "execution_count": 13,
   "id": "80e96dc0",
   "metadata": {},
   "outputs": [
    {
     "name": "stderr",
     "output_type": "stream",
     "text": [
      "25/10/07 16:27:13 WARN TaskSetManager: Stage 29 contains a task of very large size (3433 KiB). The maximum recommended task size is 1000 KiB.\n"
     ]
    },
    {
     "name": "stdout",
     "output_type": "stream",
     "text": [
      "+---------+---------+--------------------+--------+-------------------+---------+----------+--------------+-------------------+-------------------+\n",
      "|InvoiceNo|StockCode|         Description|Quantity|        InvoiceDate|UnitPrice|CustomerID|       Country|               date|          from_date|\n",
      "+---------+---------+--------------------+--------+-------------------+---------+----------+--------------+-------------------+-------------------+\n",
      "|   536365|   85123A|WHITE HANGING HEA...|       6|2010-12-01 08:26:00|     2.55|   17850.0|United Kingdom|2010-12-01 08:26:00|2011-12-09 12:50:00|\n",
      "|   536365|    71053| WHITE METAL LANTERN|       6|2010-12-01 08:26:00|     3.39|   17850.0|United Kingdom|2010-12-01 08:26:00|2011-12-09 12:50:00|\n",
      "|   536365|   84406B|CREAM CUPID HEART...|       8|2010-12-01 08:26:00|     2.75|   17850.0|United Kingdom|2010-12-01 08:26:00|2011-12-09 12:50:00|\n",
      "|   536365|   84029G|KNITTED UNION FLA...|       6|2010-12-01 08:26:00|     3.39|   17850.0|United Kingdom|2010-12-01 08:26:00|2011-12-09 12:50:00|\n",
      "|   536365|   84029E|RED WOOLLY HOTTIE...|       6|2010-12-01 08:26:00|     3.39|   17850.0|United Kingdom|2010-12-01 08:26:00|2011-12-09 12:50:00|\n",
      "|   536365|    22752|SET 7 BABUSHKA NE...|       2|2010-12-01 08:26:00|     7.65|   17850.0|United Kingdom|2010-12-01 08:26:00|2011-12-09 12:50:00|\n",
      "|   536365|    21730|GLASS STAR FROSTE...|       6|2010-12-01 08:26:00|     4.25|   17850.0|United Kingdom|2010-12-01 08:26:00|2011-12-09 12:50:00|\n",
      "|   536366|    22633|HAND WARMER UNION...|       6|2010-12-01 08:28:00|     1.85|   17850.0|United Kingdom|2010-12-01 08:28:00|2011-12-09 12:50:00|\n",
      "|   536366|    22632|HAND WARMER RED P...|       6|2010-12-01 08:28:00|     1.85|   17850.0|United Kingdom|2010-12-01 08:28:00|2011-12-09 12:50:00|\n",
      "|   536367|    84879|ASSORTED COLOUR B...|      32|2010-12-01 08:34:00|     1.69|   13047.0|United Kingdom|2010-12-01 08:34:00|2011-12-09 12:50:00|\n",
      "|   536367|    22745|POPPY'S PLAYHOUSE...|       6|2010-12-01 08:34:00|      2.1|   13047.0|United Kingdom|2010-12-01 08:34:00|2011-12-09 12:50:00|\n",
      "|   536367|    22748|POPPY'S PLAYHOUSE...|       6|2010-12-01 08:34:00|      2.1|   13047.0|United Kingdom|2010-12-01 08:34:00|2011-12-09 12:50:00|\n",
      "|   536367|    22749|FELTCRAFT PRINCES...|       8|2010-12-01 08:34:00|     3.75|   13047.0|United Kingdom|2010-12-01 08:34:00|2011-12-09 12:50:00|\n",
      "|   536367|    22310|IVORY KNITTED MUG...|       6|2010-12-01 08:34:00|     1.65|   13047.0|United Kingdom|2010-12-01 08:34:00|2011-12-09 12:50:00|\n",
      "|   536367|    84969|BOX OF 6 ASSORTED...|       6|2010-12-01 08:34:00|     4.25|   13047.0|United Kingdom|2010-12-01 08:34:00|2011-12-09 12:50:00|\n",
      "|   536367|    22623|BOX OF VINTAGE JI...|       3|2010-12-01 08:34:00|     4.95|   13047.0|United Kingdom|2010-12-01 08:34:00|2011-12-09 12:50:00|\n",
      "|   536367|    22622|BOX OF VINTAGE AL...|       2|2010-12-01 08:34:00|     9.95|   13047.0|United Kingdom|2010-12-01 08:34:00|2011-12-09 12:50:00|\n",
      "|   536367|    21754|HOME BUILDING BLO...|       3|2010-12-01 08:34:00|     5.95|   13047.0|United Kingdom|2010-12-01 08:34:00|2011-12-09 12:50:00|\n",
      "|   536367|    21755|LOVE BUILDING BLO...|       3|2010-12-01 08:34:00|     5.95|   13047.0|United Kingdom|2010-12-01 08:34:00|2011-12-09 12:50:00|\n",
      "|   536367|    21777|RECIPE BOX WITH M...|       4|2010-12-01 08:34:00|     7.95|   13047.0|United Kingdom|2010-12-01 08:34:00|2011-12-09 12:50:00|\n",
      "+---------+---------+--------------------+--------+-------------------+---------+----------+--------------+-------------------+-------------------+\n",
      "only showing top 20 rows\n"
     ]
    },
    {
     "name": "stderr",
     "output_type": "stream",
     "text": [
      "25/10/07 16:27:13 WARN TaskSetManager: Stage 32 contains a task of very large size (3433 KiB). The maximum recommended task size is 1000 KiB.\n",
      "Exception ignored in: <_io.BufferedWriter name=5>\n",
      "Traceback (most recent call last):\n",
      "  File \"/Users/aiomote/Data Science Projects/datacamp_spark_tutorial/.venv/lib/python3.13/site-packages/pyspark/python/lib/pyspark.zip/pyspark/daemon.py\", line 200, in manager\n",
      "BrokenPipeError: [Errno 32] Broken pipe\n"
     ]
    }
   ],
   "source": [
    "# Get the recent date\n",
    "max_date = df.agg(max(\"InvoiceDate\").alias(\"max_date\")).collect()[0][\"max_date\"]\n",
    "df = df.withColumn(\"from_date\", lit(max_date))\n",
    "df.show()\n"
   ]
  },
  {
   "cell_type": "markdown",
   "id": "7ee3bac5",
   "metadata": {},
   "source": [
    "In PySpark, all expressions inside withColumn() must be **Spark column objects**, not plain Python values. \n",
    "\n",
    "This is because Spark doesn't know how to distribute a pure Python literal (e.g. such as integer of 123) across the cluster automatically in that context.\n",
    "\n",
    "This is why you need functions.lit() (short for literal) to wrap a Python value (number, string, date, etc) into a **column expression** that Spark can handle. "
   ]
  },
  {
   "cell_type": "markdown",
   "id": "823f8112",
   "metadata": {},
   "source": [
    "**In this case:**\n",
    "- max_date is a **single Python value** (after .collect() brings it from Spark to the driver)\n",
    "- To broadcast it as a constant column to all rows, you must turn it into a **Spark column**\n",
    "- That's exactly what F.lit() does"
   ]
  },
  {
   "cell_type": "markdown",
   "id": "cc457220",
   "metadata": {},
   "source": [
    "**2. Using a cross join with an aggregate**"
   ]
  },
  {
   "cell_type": "code",
   "execution_count": 14,
   "id": "92149b69",
   "metadata": {},
   "outputs": [
    {
     "name": "stderr",
     "output_type": "stream",
     "text": [
      "25/10/07 16:27:13 WARN TaskSetManager: Stage 33 contains a task of very large size (3433 KiB). The maximum recommended task size is 1000 KiB.\n"
     ]
    },
    {
     "name": "stdout",
     "output_type": "stream",
     "text": [
      "+---------+---------+--------------------+--------+-------------------+---------+----------+--------------+-------------------+-------------------+-------------------+\n",
      "|InvoiceNo|StockCode|         Description|Quantity|        InvoiceDate|UnitPrice|CustomerID|       Country|               date|          from_date|          max_date2|\n",
      "+---------+---------+--------------------+--------+-------------------+---------+----------+--------------+-------------------+-------------------+-------------------+\n",
      "|   536365|   85123A|WHITE HANGING HEA...|       6|2010-12-01 08:26:00|     2.55|   17850.0|United Kingdom|2010-12-01 08:26:00|2011-12-09 12:50:00|2011-12-09 12:50:00|\n",
      "|   536365|    71053| WHITE METAL LANTERN|       6|2010-12-01 08:26:00|     3.39|   17850.0|United Kingdom|2010-12-01 08:26:00|2011-12-09 12:50:00|2011-12-09 12:50:00|\n",
      "|   536365|   84406B|CREAM CUPID HEART...|       8|2010-12-01 08:26:00|     2.75|   17850.0|United Kingdom|2010-12-01 08:26:00|2011-12-09 12:50:00|2011-12-09 12:50:00|\n",
      "|   536365|   84029G|KNITTED UNION FLA...|       6|2010-12-01 08:26:00|     3.39|   17850.0|United Kingdom|2010-12-01 08:26:00|2011-12-09 12:50:00|2011-12-09 12:50:00|\n",
      "|   536365|   84029E|RED WOOLLY HOTTIE...|       6|2010-12-01 08:26:00|     3.39|   17850.0|United Kingdom|2010-12-01 08:26:00|2011-12-09 12:50:00|2011-12-09 12:50:00|\n",
      "|   536365|    22752|SET 7 BABUSHKA NE...|       2|2010-12-01 08:26:00|     7.65|   17850.0|United Kingdom|2010-12-01 08:26:00|2011-12-09 12:50:00|2011-12-09 12:50:00|\n",
      "|   536365|    21730|GLASS STAR FROSTE...|       6|2010-12-01 08:26:00|     4.25|   17850.0|United Kingdom|2010-12-01 08:26:00|2011-12-09 12:50:00|2011-12-09 12:50:00|\n",
      "|   536366|    22633|HAND WARMER UNION...|       6|2010-12-01 08:28:00|     1.85|   17850.0|United Kingdom|2010-12-01 08:28:00|2011-12-09 12:50:00|2011-12-09 12:50:00|\n",
      "|   536366|    22632|HAND WARMER RED P...|       6|2010-12-01 08:28:00|     1.85|   17850.0|United Kingdom|2010-12-01 08:28:00|2011-12-09 12:50:00|2011-12-09 12:50:00|\n",
      "|   536367|    84879|ASSORTED COLOUR B...|      32|2010-12-01 08:34:00|     1.69|   13047.0|United Kingdom|2010-12-01 08:34:00|2011-12-09 12:50:00|2011-12-09 12:50:00|\n",
      "|   536367|    22745|POPPY'S PLAYHOUSE...|       6|2010-12-01 08:34:00|      2.1|   13047.0|United Kingdom|2010-12-01 08:34:00|2011-12-09 12:50:00|2011-12-09 12:50:00|\n",
      "|   536367|    22748|POPPY'S PLAYHOUSE...|       6|2010-12-01 08:34:00|      2.1|   13047.0|United Kingdom|2010-12-01 08:34:00|2011-12-09 12:50:00|2011-12-09 12:50:00|\n",
      "|   536367|    22749|FELTCRAFT PRINCES...|       8|2010-12-01 08:34:00|     3.75|   13047.0|United Kingdom|2010-12-01 08:34:00|2011-12-09 12:50:00|2011-12-09 12:50:00|\n",
      "|   536367|    22310|IVORY KNITTED MUG...|       6|2010-12-01 08:34:00|     1.65|   13047.0|United Kingdom|2010-12-01 08:34:00|2011-12-09 12:50:00|2011-12-09 12:50:00|\n",
      "|   536367|    84969|BOX OF 6 ASSORTED...|       6|2010-12-01 08:34:00|     4.25|   13047.0|United Kingdom|2010-12-01 08:34:00|2011-12-09 12:50:00|2011-12-09 12:50:00|\n",
      "|   536367|    22623|BOX OF VINTAGE JI...|       3|2010-12-01 08:34:00|     4.95|   13047.0|United Kingdom|2010-12-01 08:34:00|2011-12-09 12:50:00|2011-12-09 12:50:00|\n",
      "|   536367|    22622|BOX OF VINTAGE AL...|       2|2010-12-01 08:34:00|     9.95|   13047.0|United Kingdom|2010-12-01 08:34:00|2011-12-09 12:50:00|2011-12-09 12:50:00|\n",
      "|   536367|    21754|HOME BUILDING BLO...|       3|2010-12-01 08:34:00|     5.95|   13047.0|United Kingdom|2010-12-01 08:34:00|2011-12-09 12:50:00|2011-12-09 12:50:00|\n",
      "|   536367|    21755|LOVE BUILDING BLO...|       3|2010-12-01 08:34:00|     5.95|   13047.0|United Kingdom|2010-12-01 08:34:00|2011-12-09 12:50:00|2011-12-09 12:50:00|\n",
      "|   536367|    21777|RECIPE BOX WITH M...|       4|2010-12-01 08:34:00|     7.95|   13047.0|United Kingdom|2010-12-01 08:34:00|2011-12-09 12:50:00|2011-12-09 12:50:00|\n",
      "+---------+---------+--------------------+--------+-------------------+---------+----------+--------------+-------------------+-------------------+-------------------+\n",
      "only showing top 20 rows\n"
     ]
    },
    {
     "name": "stderr",
     "output_type": "stream",
     "text": [
      "25/10/07 16:27:13 WARN TaskSetManager: Stage 36 contains a task of very large size (3433 KiB). The maximum recommended task size is 1000 KiB.\n",
      "Exception ignored in: <_io.BufferedWriter name=5>\n",
      "Traceback (most recent call last):\n",
      "  File \"/Users/aiomote/Data Science Projects/datacamp_spark_tutorial/.venv/lib/python3.13/site-packages/pyspark/python/lib/pyspark.zip/pyspark/daemon.py\", line 200, in manager\n",
      "BrokenPipeError: [Errno 32] Broken pipe\n"
     ]
    }
   ],
   "source": [
    "# Aggregate to find the max InvoiceDate (still a DataFrame, not collected)\n",
    "max_df = df.agg(max(\"InvoiceDate\").alias(\"max_date2\")) # Produces a 1-row DataFrame \n",
    "\n",
    "# Cross join to add it to all rows\n",
    "df = df.crossJoin(max_df) # Attaches the single row to every row of df (since max_df has only one row, the join is efficient)\n",
    "\n",
    "df.show()"
   ]
  },
  {
   "cell_type": "markdown",
   "id": "7e24535b",
   "metadata": {},
   "source": [
    "**3. Using a window function**"
   ]
  },
  {
   "cell_type": "code",
   "execution_count": 15,
   "id": "4b0a446f",
   "metadata": {},
   "outputs": [
    {
     "name": "stderr",
     "output_type": "stream",
     "text": [
      "25/10/07 16:27:13 WARN WindowExec: No Partition Defined for Window operation! Moving all data to a single partition, this can cause serious performance degradation.\n",
      "25/10/07 16:27:13 WARN WindowExec: No Partition Defined for Window operation! Moving all data to a single partition, this can cause serious performance degradation.\n",
      "25/10/07 16:27:13 WARN WindowExec: No Partition Defined for Window operation! Moving all data to a single partition, this can cause serious performance degradation.\n",
      "25/10/07 16:27:13 WARN TaskSetManager: Stage 37 contains a task of very large size (3433 KiB). The maximum recommended task size is 1000 KiB.\n",
      "25/10/07 16:27:13 WARN WindowExec: No Partition Defined for Window operation! Moving all data to a single partition, this can cause serious performance degradation.\n",
      "25/10/07 16:27:13 WARN WindowExec: No Partition Defined for Window operation! Moving all data to a single partition, this can cause serious performance degradation.\n",
      "25/10/07 16:27:13 WARN WindowExec: No Partition Defined for Window operation! Moving all data to a single partition, this can cause serious performance degradation.\n",
      "25/10/07 16:27:13 WARN WindowExec: No Partition Defined for Window operation! Moving all data to a single partition, this can cause serious performance degradation.\n",
      "25/10/07 16:27:13 WARN TaskSetManager: Stage 40 contains a task of very large size (3433 KiB). The maximum recommended task size is 1000 KiB.\n",
      "25/10/07 16:27:14 WARN WindowExec: No Partition Defined for Window operation! Moving all data to a single partition, this can cause serious performance degradation.\n",
      "25/10/07 16:27:14 WARN WindowExec: No Partition Defined for Window operation! Moving all data to a single partition, this can cause serious performance degradation.\n"
     ]
    },
    {
     "name": "stdout",
     "output_type": "stream",
     "text": [
      "+---------+---------+--------------------+--------+-------------------+---------+----------+--------------+-------------------+-------------------+-------------------+-------------------+\n",
      "|InvoiceNo|StockCode|         Description|Quantity|        InvoiceDate|UnitPrice|CustomerID|       Country|               date|          from_date|          max_date2|          max_date3|\n",
      "+---------+---------+--------------------+--------+-------------------+---------+----------+--------------+-------------------+-------------------+-------------------+-------------------+\n",
      "|   536365|   85123A|WHITE HANGING HEA...|       6|2010-12-01 08:26:00|     2.55|   17850.0|United Kingdom|2010-12-01 08:26:00|2011-12-09 12:50:00|2011-12-09 12:50:00|2011-12-09 12:50:00|\n",
      "|   536365|    71053| WHITE METAL LANTERN|       6|2010-12-01 08:26:00|     3.39|   17850.0|United Kingdom|2010-12-01 08:26:00|2011-12-09 12:50:00|2011-12-09 12:50:00|2011-12-09 12:50:00|\n",
      "|   536365|   84406B|CREAM CUPID HEART...|       8|2010-12-01 08:26:00|     2.75|   17850.0|United Kingdom|2010-12-01 08:26:00|2011-12-09 12:50:00|2011-12-09 12:50:00|2011-12-09 12:50:00|\n",
      "|   536365|   84029G|KNITTED UNION FLA...|       6|2010-12-01 08:26:00|     3.39|   17850.0|United Kingdom|2010-12-01 08:26:00|2011-12-09 12:50:00|2011-12-09 12:50:00|2011-12-09 12:50:00|\n",
      "|   536365|   84029E|RED WOOLLY HOTTIE...|       6|2010-12-01 08:26:00|     3.39|   17850.0|United Kingdom|2010-12-01 08:26:00|2011-12-09 12:50:00|2011-12-09 12:50:00|2011-12-09 12:50:00|\n",
      "|   536365|    22752|SET 7 BABUSHKA NE...|       2|2010-12-01 08:26:00|     7.65|   17850.0|United Kingdom|2010-12-01 08:26:00|2011-12-09 12:50:00|2011-12-09 12:50:00|2011-12-09 12:50:00|\n",
      "|   536365|    21730|GLASS STAR FROSTE...|       6|2010-12-01 08:26:00|     4.25|   17850.0|United Kingdom|2010-12-01 08:26:00|2011-12-09 12:50:00|2011-12-09 12:50:00|2011-12-09 12:50:00|\n",
      "|   536366|    22633|HAND WARMER UNION...|       6|2010-12-01 08:28:00|     1.85|   17850.0|United Kingdom|2010-12-01 08:28:00|2011-12-09 12:50:00|2011-12-09 12:50:00|2011-12-09 12:50:00|\n",
      "|   536366|    22632|HAND WARMER RED P...|       6|2010-12-01 08:28:00|     1.85|   17850.0|United Kingdom|2010-12-01 08:28:00|2011-12-09 12:50:00|2011-12-09 12:50:00|2011-12-09 12:50:00|\n",
      "|   536367|    84879|ASSORTED COLOUR B...|      32|2010-12-01 08:34:00|     1.69|   13047.0|United Kingdom|2010-12-01 08:34:00|2011-12-09 12:50:00|2011-12-09 12:50:00|2011-12-09 12:50:00|\n",
      "|   536367|    22745|POPPY'S PLAYHOUSE...|       6|2010-12-01 08:34:00|      2.1|   13047.0|United Kingdom|2010-12-01 08:34:00|2011-12-09 12:50:00|2011-12-09 12:50:00|2011-12-09 12:50:00|\n",
      "|   536367|    22748|POPPY'S PLAYHOUSE...|       6|2010-12-01 08:34:00|      2.1|   13047.0|United Kingdom|2010-12-01 08:34:00|2011-12-09 12:50:00|2011-12-09 12:50:00|2011-12-09 12:50:00|\n",
      "|   536367|    22749|FELTCRAFT PRINCES...|       8|2010-12-01 08:34:00|     3.75|   13047.0|United Kingdom|2010-12-01 08:34:00|2011-12-09 12:50:00|2011-12-09 12:50:00|2011-12-09 12:50:00|\n",
      "|   536367|    22310|IVORY KNITTED MUG...|       6|2010-12-01 08:34:00|     1.65|   13047.0|United Kingdom|2010-12-01 08:34:00|2011-12-09 12:50:00|2011-12-09 12:50:00|2011-12-09 12:50:00|\n",
      "|   536367|    84969|BOX OF 6 ASSORTED...|       6|2010-12-01 08:34:00|     4.25|   13047.0|United Kingdom|2010-12-01 08:34:00|2011-12-09 12:50:00|2011-12-09 12:50:00|2011-12-09 12:50:00|\n",
      "|   536367|    22623|BOX OF VINTAGE JI...|       3|2010-12-01 08:34:00|     4.95|   13047.0|United Kingdom|2010-12-01 08:34:00|2011-12-09 12:50:00|2011-12-09 12:50:00|2011-12-09 12:50:00|\n",
      "|   536367|    22622|BOX OF VINTAGE AL...|       2|2010-12-01 08:34:00|     9.95|   13047.0|United Kingdom|2010-12-01 08:34:00|2011-12-09 12:50:00|2011-12-09 12:50:00|2011-12-09 12:50:00|\n",
      "|   536367|    21754|HOME BUILDING BLO...|       3|2010-12-01 08:34:00|     5.95|   13047.0|United Kingdom|2010-12-01 08:34:00|2011-12-09 12:50:00|2011-12-09 12:50:00|2011-12-09 12:50:00|\n",
      "|   536367|    21755|LOVE BUILDING BLO...|       3|2010-12-01 08:34:00|     5.95|   13047.0|United Kingdom|2010-12-01 08:34:00|2011-12-09 12:50:00|2011-12-09 12:50:00|2011-12-09 12:50:00|\n",
      "|   536367|    21777|RECIPE BOX WITH M...|       4|2010-12-01 08:34:00|     7.95|   13047.0|United Kingdom|2010-12-01 08:34:00|2011-12-09 12:50:00|2011-12-09 12:50:00|2011-12-09 12:50:00|\n",
      "+---------+---------+--------------------+--------+-------------------+---------+----------+--------------+-------------------+-------------------+-------------------+-------------------+\n",
      "only showing top 20 rows\n"
     ]
    }
   ],
   "source": [
    "from pyspark.sql import Window\n",
    "\n",
    "df = df.withColumn(\n",
    "    \"max_date3\",\n",
    "    max(\"InvoiceDate\").over(Window.rowsBetween(Window.unboundedPreceding, Window.unboundedFollowing)) # defines a windor over the entire dataset (from first to last row)\n",
    ")\n",
    "\n",
    "df.show()"
   ]
  },
  {
   "cell_type": "markdown",
   "id": "dd7f552c",
   "metadata": {},
   "source": [
    "---\n",
    "\n",
    "**Comparison:**\n",
    "\n",
    "---\n",
    "**1. .collect() + lit()**\n",
    "- Not distributed (brings data to driver)\n",
    "- Simple\n",
    "- Best for small datasets\n",
    "\n",
    "**2. crossJoin**\n",
    "- Distributed\n",
    "- Clear\n",
    "- Best for medium to large datasets\n",
    "\n",
    "**3. window function**\n",
    "- Distributed\n",
    "- Elegant, no join\n",
    "- Best for when using window operations already"
   ]
  },
  {
   "cell_type": "code",
   "execution_count": 16,
   "id": "75b2a9d8",
   "metadata": {},
   "outputs": [
    {
     "name": "stderr",
     "output_type": "stream",
     "text": [
      "25/10/07 16:27:14 WARN TaskSetManager: Stage 43 contains a task of very large size (3433 KiB). The maximum recommended task size is 1000 KiB.\n",
      "25/10/07 16:27:14 WARN TaskSetManager: Stage 46 contains a task of very large size (3433 KiB). The maximum recommended task size is 1000 KiB.\n"
     ]
    },
    {
     "name": "stdout",
     "output_type": "stream",
     "text": [
      "+---------+---------+--------------------+--------+-------------------+---------+----------+--------------+-------------------+-------------------+\n",
      "|InvoiceNo|StockCode|         Description|Quantity|        InvoiceDate|UnitPrice|CustomerID|       Country|               date|          from_date|\n",
      "+---------+---------+--------------------+--------+-------------------+---------+----------+--------------+-------------------+-------------------+\n",
      "|   536365|   85123A|WHITE HANGING HEA...|       6|2010-12-01 08:26:00|     2.55|   17850.0|United Kingdom|2010-12-01 08:26:00|2011-12-09 12:50:00|\n",
      "|   536365|    71053| WHITE METAL LANTERN|       6|2010-12-01 08:26:00|     3.39|   17850.0|United Kingdom|2010-12-01 08:26:00|2011-12-09 12:50:00|\n",
      "|   536365|   84406B|CREAM CUPID HEART...|       8|2010-12-01 08:26:00|     2.75|   17850.0|United Kingdom|2010-12-01 08:26:00|2011-12-09 12:50:00|\n",
      "|   536365|   84029G|KNITTED UNION FLA...|       6|2010-12-01 08:26:00|     3.39|   17850.0|United Kingdom|2010-12-01 08:26:00|2011-12-09 12:50:00|\n",
      "|   536365|   84029E|RED WOOLLY HOTTIE...|       6|2010-12-01 08:26:00|     3.39|   17850.0|United Kingdom|2010-12-01 08:26:00|2011-12-09 12:50:00|\n",
      "|   536365|    22752|SET 7 BABUSHKA NE...|       2|2010-12-01 08:26:00|     7.65|   17850.0|United Kingdom|2010-12-01 08:26:00|2011-12-09 12:50:00|\n",
      "|   536365|    21730|GLASS STAR FROSTE...|       6|2010-12-01 08:26:00|     4.25|   17850.0|United Kingdom|2010-12-01 08:26:00|2011-12-09 12:50:00|\n",
      "|   536366|    22633|HAND WARMER UNION...|       6|2010-12-01 08:28:00|     1.85|   17850.0|United Kingdom|2010-12-01 08:28:00|2011-12-09 12:50:00|\n",
      "|   536366|    22632|HAND WARMER RED P...|       6|2010-12-01 08:28:00|     1.85|   17850.0|United Kingdom|2010-12-01 08:28:00|2011-12-09 12:50:00|\n",
      "|   536367|    84879|ASSORTED COLOUR B...|      32|2010-12-01 08:34:00|     1.69|   13047.0|United Kingdom|2010-12-01 08:34:00|2011-12-09 12:50:00|\n",
      "|   536367|    22745|POPPY'S PLAYHOUSE...|       6|2010-12-01 08:34:00|      2.1|   13047.0|United Kingdom|2010-12-01 08:34:00|2011-12-09 12:50:00|\n",
      "|   536367|    22748|POPPY'S PLAYHOUSE...|       6|2010-12-01 08:34:00|      2.1|   13047.0|United Kingdom|2010-12-01 08:34:00|2011-12-09 12:50:00|\n",
      "|   536367|    22749|FELTCRAFT PRINCES...|       8|2010-12-01 08:34:00|     3.75|   13047.0|United Kingdom|2010-12-01 08:34:00|2011-12-09 12:50:00|\n",
      "|   536367|    22310|IVORY KNITTED MUG...|       6|2010-12-01 08:34:00|     1.65|   13047.0|United Kingdom|2010-12-01 08:34:00|2011-12-09 12:50:00|\n",
      "|   536367|    84969|BOX OF 6 ASSORTED...|       6|2010-12-01 08:34:00|     4.25|   13047.0|United Kingdom|2010-12-01 08:34:00|2011-12-09 12:50:00|\n",
      "|   536367|    22623|BOX OF VINTAGE JI...|       3|2010-12-01 08:34:00|     4.95|   13047.0|United Kingdom|2010-12-01 08:34:00|2011-12-09 12:50:00|\n",
      "|   536367|    22622|BOX OF VINTAGE AL...|       2|2010-12-01 08:34:00|     9.95|   13047.0|United Kingdom|2010-12-01 08:34:00|2011-12-09 12:50:00|\n",
      "|   536367|    21754|HOME BUILDING BLO...|       3|2010-12-01 08:34:00|     5.95|   13047.0|United Kingdom|2010-12-01 08:34:00|2011-12-09 12:50:00|\n",
      "|   536367|    21755|LOVE BUILDING BLO...|       3|2010-12-01 08:34:00|     5.95|   13047.0|United Kingdom|2010-12-01 08:34:00|2011-12-09 12:50:00|\n",
      "|   536367|    21777|RECIPE BOX WITH M...|       4|2010-12-01 08:34:00|     7.95|   13047.0|United Kingdom|2010-12-01 08:34:00|2011-12-09 12:50:00|\n",
      "+---------+---------+--------------------+--------+-------------------+---------+----------+--------------+-------------------+-------------------+\n",
      "only showing top 20 rows\n"
     ]
    },
    {
     "name": "stderr",
     "output_type": "stream",
     "text": [
      "Exception ignored in: <_io.BufferedWriter name=5>\n",
      "Traceback (most recent call last):\n",
      "  File \"/Users/aiomote/Data Science Projects/datacamp_spark_tutorial/.venv/lib/python3.13/site-packages/pyspark/python/lib/pyspark.zip/pyspark/daemon.py\", line 200, in manager\n",
      "BrokenPipeError: [Errno 32] Broken pipe\n"
     ]
    }
   ],
   "source": [
    "df = df.drop(\"max_date2\", \"max_date3\")\n",
    "df.show()"
   ]
  },
  {
   "cell_type": "markdown",
   "id": "24150785",
   "metadata": {},
   "source": [
    "### Select the most recent purchase"
   ]
  },
  {
   "cell_type": "code",
   "execution_count": null,
   "id": "2fa0346e",
   "metadata": {},
   "outputs": [
    {
     "name": "stderr",
     "output_type": "stream",
     "text": [
      "25/10/07 16:33:25 WARN TaskSetManager: Stage 47 contains a task of very large size (3433 KiB). The maximum recommended task size is 1000 KiB.\n",
      "25/10/07 16:33:25 WARN TaskSetManager: Stage 50 contains a task of very large size (3433 KiB). The maximum recommended task size is 1000 KiB.\n",
      "[Stage 50:>                                                       (0 + 10) / 10]\r"
     ]
    },
    {
     "name": "stdout",
     "output_type": "stream",
     "text": [
      "+---------+---------+--------------------+--------+-------------------+---------+----------+--------------+-------------------+-------------------+---------+\n",
      "|InvoiceNo|StockCode|         Description|Quantity|        InvoiceDate|UnitPrice|CustomerID|       Country|               date|          from_date|  recency|\n",
      "+---------+---------+--------------------+--------+-------------------+---------+----------+--------------+-------------------+-------------------+---------+\n",
      "|  C541433|    23166|MEDIUM CERAMIC TO...|  -74215|2011-01-18 10:17:00|     1.04|   12346.0|United Kingdom|2011-01-18 10:17:00|2011-12-09 12:50:00|-28089180|\n",
      "|   581180|    23497|CLASSIC CHROME BI...|      12|2011-12-07 15:52:00|     1.45|   12347.0|       Iceland|2011-12-07 15:52:00|2011-12-09 12:50:00|  -161880|\n",
      "|   568172|    23077| DOUGHNUT LIP GLOSS |     120|2011-09-25 13:13:00|     1.25|   12348.0|       Finland|2011-09-25 13:13:00|2011-12-09 12:50:00| -6482220|\n",
      "|   577609|    23112|PARISIENNE CURIO ...|       2|2011-11-21 09:51:00|      7.5|   12349.0|         Italy|2011-11-21 09:51:00|2011-12-09 12:50:00| -1565940|\n",
      "|   543037|    21908|CHOCOLATE THIS WA...|      12|2011-02-02 16:01:00|      2.1|   12350.0|        Norway|2011-02-02 16:01:00|2011-12-09 12:50:00|-26772540|\n",
      "|   574275|    23096|     PETIT TRAY CHIC|      12|2011-11-03 14:37:00|     1.65|   12352.0|        Norway|2011-11-03 14:37:00|2011-12-09 12:50:00| -3103980|\n",
      "|   553900|    37449|CERAMIC CAKE STAN...|       2|2011-05-19 17:47:00|     9.95|   12353.0|       Bahrain|2011-05-19 17:47:00|2011-12-09 12:50:00|-17611380|\n",
      "|   550911|    23201|  JUMBO BAG ALPHABET|      10|2011-04-21 13:11:00|     2.08|   12354.0|         Spain|2011-04-21 13:11:00|2011-12-09 12:50:00|-20047140|\n",
      "|   552449|    22693|GROW A FLYTRAP OR...|      24|2011-05-09 13:49:00|     1.25|   12355.0|       Bahrain|2011-05-09 13:49:00|2011-12-09 12:50:00|-18489660|\n",
      "|   576895|    22423|REGENCY CAKESTAND...|       2|2011-11-17 08:40:00|    12.75|   12356.0|      Portugal|2011-11-17 08:40:00|2011-12-09 12:50:00| -1915800|\n",
      "|   574740|    22064|PINK DOUGHNUT TRI...|      12|2011-11-06 16:07:00|     1.65|   12357.0|   Switzerland|2011-11-06 16:07:00|2011-12-09 12:50:00| -2839380|\n",
      "|   581232|    20679|EDWARDIAN PARASOL...|      24|2011-12-08 10:26:00|     5.95|   12358.0|       Austria|2011-12-08 10:26:00|2011-12-09 12:50:00|   -95040|\n",
      "|  C580165|    22797|CHEST OF DRAWERS ...|      -2|2011-12-02 11:21:00|    16.95|   12359.0|        Cyprus|2011-12-02 11:21:00|2011-12-09 12:50:00|  -610140|\n",
      "|   571705|    21559|STRAWBERRY LUNCH ...|       6|2011-10-18 15:22:00|     2.55|   12360.0|       Austria|2011-10-18 15:22:00|2011-12-09 12:50:00| -4487280|\n",
      "|   545017|    22630|DOLLY GIRL LUNCH BOX|      12|2011-02-25 13:51:00|     1.95|   12361.0|       Belgium|2011-02-25 13:51:00|2011-12-09 12:50:00|-24793140|\n",
      "|   580979|    23238|SET OF 4 KNICK KN...|       6|2011-12-06 15:40:00|     4.15|   12362.0|       Belgium|2011-12-06 15:40:00|2011-12-09 12:50:00|  -249000|\n",
      "|   563947|    23236|STORAGE TIN VINTA...|      24|2011-08-22 10:18:00|     2.89|   12363.0|   Unspecified|2011-08-22 10:18:00|2011-12-09 12:50:00| -9430320|\n",
      "|   580152|    21499|  BLUE POLKADOT WRAP|      25|2011-12-02 10:22:00|     0.42|   12364.0|       Belgium|2011-12-02 10:22:00|2011-12-09 12:50:00|  -613680|\n",
      "|   544578|        M|              Manual|       1|2011-02-21 14:04:00|   320.69|   12365.0|        Cyprus|2011-02-21 14:04:00|2011-12-09 12:50:00|-25137960|\n",
      "|   580716|    85227|SET OF 6 3D KIT C...|      12|2011-12-05 16:48:00|     0.85|   12367.0|       Denmark|2011-12-05 16:48:00|2011-12-09 12:50:00|  -331320|\n",
      "+---------+---------+--------------------+--------+-------------------+---------+----------+--------------+-------------------+-------------------+---------+\n",
      "only showing top 20 rows\n"
     ]
    },
    {
     "name": "stderr",
     "output_type": "stream",
     "text": [
      "                                                                                \r"
     ]
    }
   ],
   "source": [
    "# Calculate the dates between the latest date and customer's purchase date\n",
    "df2 = df.withColumn(\"recency\", col(\"date\").cast(\"long\") - col(\"from_date\").cast(\"long\"))\n",
    "\n",
    "w = Window.partitionBy(\"CustomerID\").orderBy(desc(\"recency\")) # Order customers by their recency \n",
    "df2 = df2.withColumn(\"rn\", row_number().over(w)).filter(col(\"rn\") == 1).drop(\"rn\") # Select the most recent purchase\n",
    "\n",
    "df2 = df2.join(df2.groupBy('CustomerID').agg(max('recency').alias('recency')),on='recency',how='leftsemi')\n",
    "\n",
    "\n",
    "\n",
    "\n",
    "df2.show()"
   ]
  },
  {
   "cell_type": "code",
   "execution_count": null,
   "id": "86a8e91d",
   "metadata": {},
   "outputs": [],
   "source": []
  }
 ],
 "metadata": {
  "kernelspec": {
   "display_name": ".venv",
   "language": "python",
   "name": "python3"
  },
  "language_info": {
   "codemirror_mode": {
    "name": "ipython",
    "version": 3
   },
   "file_extension": ".py",
   "mimetype": "text/x-python",
   "name": "python",
   "nbconvert_exporter": "python",
   "pygments_lexer": "ipython3",
   "version": "3.13.5"
  }
 },
 "nbformat": 4,
 "nbformat_minor": 5
}
